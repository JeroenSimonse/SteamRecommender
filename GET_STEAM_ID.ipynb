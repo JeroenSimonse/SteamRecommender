{
 "cells": [
  {
   "cell_type": "code",
   "execution_count": 1,
   "metadata": {},
   "outputs": [],
   "source": [
    "from selenium import webdriver\n",
    "from selenium.webdriver.common.keys import Keys\n",
    "from selenium.webdriver.support.ui import Select\n",
    "from selenium.webdriver.chrome.options import Options\n",
    "from bs4 import BeautifulSoup\n",
    "import time\n",
    "import pandas as pd\n",
    "import numpy as np\n",
    "from datetime import datetime"
   ]
  },
  {
   "cell_type": "code",
   "execution_count": 11,
   "metadata": {},
   "outputs": [],
   "source": [
    "PATH = r'C:\\Users\\Jeroen\\Documents\\Python_Scripts\\chromedriver'\n",
    "options = Options()\n",
    "options.add_argument(\"--headless\")\n",
    "#options.add_argument(\"--disable-blink-features\")\n",
    "#options.add_argument(\"--disable-blink-features=AutomationControlled\")\n",
    "#options.add_argument(\"--start-maximized\")\n"
   ]
  },
  {
   "cell_type": "code",
   "execution_count": 12,
   "metadata": {},
   "outputs": [],
   "source": [
    "urls = []\n",
    "steam_id = []\n",
    "\n",
    "def my_function(x):\n",
    "  return list(dict.fromkeys(x))\n"
   ]
  },
  {
   "cell_type": "code",
   "execution_count": 13,
   "metadata": {},
   "outputs": [],
   "source": [
    "def get_steam_ids(fromPage,tillPage):\n",
    "\n",
    "\n",
    "    for i in range(fromPage,tillPage):\n",
    "        browser = webdriver.Chrome(PATH, options = options)\n",
    "        browser.get('https://steamcommunity.com/groups/steamuniverse/members/?p='+ str(i))\n",
    "        html = browser.page_source\n",
    "        soup = BeautifulSoup (html, 'html.parser')\n",
    "        containers = soup.findAll('div',{'id':'memberList'})\n",
    "        \n",
    "        for element in str(containers[0]).split():\n",
    "            if 'href' in element and 'profiles' in element:\n",
    "                urls.append(element)\n",
    "        for i in urls:\n",
    "            steam_id.append((i[42:59]))\n",
    "    return steam_id\n"
   ]
  },
  {
   "cell_type": "code",
   "execution_count": 20,
   "metadata": {},
   "outputs": [],
   "source": [
    "get_steam_ids(301,500)\n",
    "steam_id = my_function(steam_id)\n",
    "\n",
    "df = pd.DataFrame(steam_id)\n",
    "df.to_excel(r'C:\\Users\\Jeroen\\Documents\\Python_Scripts\\SteamRecommender\\steamids'+str(datetime.today().strftime('%Y%m%d %H%M%S'))+'.xlsx', index=0)"
   ]
  },
  {
   "cell_type": "code",
   "execution_count": null,
   "metadata": {},
   "outputs": [],
   "source": []
  }
 ],
 "metadata": {
  "interpreter": {
   "hash": "cc43e75e89bbd51dc472bab8c97abd4606ac17ffb564b0599c16d384c69d0026"
  },
  "kernelspec": {
   "display_name": "Python 3.8.10 64-bit (windows store)",
   "language": "python",
   "name": "python3"
  },
  "language_info": {
   "codemirror_mode": {
    "name": "ipython",
    "version": 3
   },
   "file_extension": ".py",
   "mimetype": "text/x-python",
   "name": "python",
   "nbconvert_exporter": "python",
   "pygments_lexer": "ipython3",
   "version": "3.8.10"
  },
  "orig_nbformat": 4
 },
 "nbformat": 4,
 "nbformat_minor": 2
}
