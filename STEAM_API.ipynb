{
 "cells": [
  {
   "cell_type": "code",
   "execution_count": 1,
   "metadata": {},
   "outputs": [],
   "source": [
    "import requests\n",
    "import pandas as pd\n",
    "import numpy as np\n",
    "import json"
   ]
  },
  {
   "cell_type": "code",
   "execution_count": 17,
   "metadata": {},
   "outputs": [],
   "source": [
    "#API = 'A31997696C545C526E22DF697DCB0434'\n",
    "df = pd.read_csv(r'C:\\Users\\Jeroen\\Documents\\Python_Scripts\\steamids.csv')\n",
    "\n",
    "steam_ids = list(df.to_numpy())"
   ]
  },
  {
   "cell_type": "code",
   "execution_count": 22,
   "metadata": {},
   "outputs": [],
   "source": [
    "steam_ids2 = []\n",
    "for id in steam_ids:\n",
    "    steam_ids2.append(str(id).replace('[', '').replace(']',''))"
   ]
  },
  {
   "cell_type": "code",
   "execution_count": 29,
   "metadata": {},
   "outputs": [
    {
     "name": "stdout",
     "output_type": "stream",
     "text": [
      "didnt work for76561198087692337\n",
      "didnt work for76561198094594298\n",
      "               user_id  game_id                         game_name hrs_played\n",
      "0    76561198057432306     6510    Lost Planet: Extreme Condition        149\n",
      "1    76561198057432306   230410                          Warframe          0\n",
      "2    76561198057432306   238960                     Path of Exile         31\n",
      "3    76561198057432306   247120  Portal 2 Sixense Perceptual Pack          0\n",
      "4    76561198057432306   252150                             Grimm        285\n",
      "..                 ...      ...                               ...        ...\n",
      "803  76561198434998089  1291500       Kill It With Fire: IGNITION          1\n",
      "804  76561198434998089   532210                 Life is Strange 2        242\n",
      "805  76561198434998089  1515950             Capcom Arcade Stadium        363\n",
      "806  76561198434998089      440                   Team Fortress 2       4276\n",
      "807  76561198434998089      570                            Dota 2         33\n",
      "\n",
      "[808 rows x 4 columns]\n"
     ]
    }
   ],
   "source": [
    "user_ids = []\n",
    "game_id = []\n",
    "game_name = []\n",
    "hrs_played = []\n",
    "\n",
    "\n",
    "for id in steam_ids2[0:5]:\n",
    "    response = requests.get(\" http://api.steampowered.com/IPlayerService/GetOwnedGames/v0001/?key=A31997696C545C526E22DF697DCB0434&steamid=\"+str(id).replace('[', '').replace(']','')+\"&format=json&include_appinfo=True&include_played_free_games=True\")\n",
    "    Obj = json.loads(json.dumps(response.json(), sort_keys=True, indent=4))\n",
    "    try:\n",
    "        lib = len(Obj['response']['games'])\n",
    "        for game in range(0,lib):\n",
    "            user_ids.append(id)\n",
    "            game_id.append(Obj['response']['games'][game]['appid'])\n",
    "            game_name.append(Obj['response']['games'][game]['name'])\n",
    "            hrs_played.append(Obj['response']['games'][game]['playtime_forever'])\n",
    "    except:\n",
    "        print('didnt work for'+str(id))\n",
    "        pass\n",
    "data = [user_ids,game_id,game_name,hrs_played]\n",
    "col_names = ['user_id', 'game_id', 'game_name', 'hrs_played']\n",
    "df = pd.DataFrame(data).transpose()\n",
    "df.columns = col_names\n",
    "\n",
    "print(df)\n"
   ]
  }
 ],
 "metadata": {
  "interpreter": {
   "hash": "cc43e75e89bbd51dc472bab8c97abd4606ac17ffb564b0599c16d384c69d0026"
  },
  "kernelspec": {
   "display_name": "Python 3.8.10 64-bit (windows store)",
   "language": "python",
   "name": "python3"
  },
  "language_info": {
   "codemirror_mode": {
    "name": "ipython",
    "version": 3
   },
   "file_extension": ".py",
   "mimetype": "text/x-python",
   "name": "python",
   "nbconvert_exporter": "python",
   "pygments_lexer": "ipython3",
   "version": "3.8.10"
  },
  "orig_nbformat": 4
 },
 "nbformat": 4,
 "nbformat_minor": 2
}
